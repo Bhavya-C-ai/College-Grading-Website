{
 "cells": [
  {
   "cell_type": "code",
   "execution_count": 1,
   "metadata": {},
   "outputs": [],
   "source": [
    "import pandas as pd"
   ]
  },
  {
   "cell_type": "code",
   "execution_count": 114,
   "metadata": {},
   "outputs": [
    {
     "name": "stdout",
     "output_type": "stream",
     "text": [
      "LIT2019001\n"
     ]
    }
   ],
   "source": [
    "\n",
    "data=pd.read_excel('Marks-sheet.xlsx',sheet_name='IT (6 sem)')\n",
    "data.columns=data.iloc[0]\n",
    "data.set_index('Sl.No.',inplace=True)\n",
    "data=data.dropna(subset=['Enroll. No.'])\n",
    "print(data.loc[1])\n",
    "\n",
    "# data=data.set_index('Enroll. No.')"
   ]
  },
  {
   "cell_type": "code",
   "execution_count": null,
   "metadata": {},
   "outputs": [],
   "source": []
  }
 ],
 "metadata": {
  "kernelspec": {
   "display_name": "Python 3.10.5 64-bit",
   "language": "python",
   "name": "python3"
  },
  "language_info": {
   "codemirror_mode": {
    "name": "ipython",
    "version": 3
   },
   "file_extension": ".py",
   "mimetype": "text/x-python",
   "name": "python",
   "nbconvert_exporter": "python",
   "pygments_lexer": "ipython3",
   "version": "3.10.5"
  },
  "orig_nbformat": 4,
  "vscode": {
   "interpreter": {
    "hash": "af1cf3a5afee815653fce44f57ad597480a709f0e43228236104dd27434417a6"
   }
  }
 },
 "nbformat": 4,
 "nbformat_minor": 2
}
